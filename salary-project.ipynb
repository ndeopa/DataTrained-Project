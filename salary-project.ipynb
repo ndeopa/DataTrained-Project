{
 "cells": [
  {
   "cell_type": "markdown",
   "id": "839b63c1",
   "metadata": {},
   "source": [
    "Predict the salary if the employee using the features provided in the data. "
   ]
  },
  {
   "cell_type": "code",
   "execution_count": 1,
   "id": "18bd54d7",
   "metadata": {},
   "outputs": [],
   "source": [
    "import numpy as np\n",
    "import pandas as pd\n",
    "import matplotlib.pyplot as plt"
   ]
  },
  {
   "cell_type": "code",
   "execution_count": 2,
   "id": "5f664354",
   "metadata": {},
   "outputs": [],
   "source": [
    "df = pd.read_csv('dataset/Salaries.csv')"
   ]
  },
  {
   "cell_type": "code",
   "execution_count": 3,
   "id": "db6a2e8e",
   "metadata": {},
   "outputs": [
    {
     "data": {
      "text/plain": [
       "Index(['rank', 'discipline', 'yrs.since.phd', 'yrs.service', 'sex', 'salary'], dtype='object')"
      ]
     },
     "execution_count": 3,
     "metadata": {},
     "output_type": "execute_result"
    }
   ],
   "source": [
    "df.columns"
   ]
  },
  {
   "cell_type": "code",
   "execution_count": 4,
   "id": "b5bbde97",
   "metadata": {},
   "outputs": [
    {
     "data": {
      "text/html": [
       "<div>\n",
       "<style scoped>\n",
       "    .dataframe tbody tr th:only-of-type {\n",
       "        vertical-align: middle;\n",
       "    }\n",
       "\n",
       "    .dataframe tbody tr th {\n",
       "        vertical-align: top;\n",
       "    }\n",
       "\n",
       "    .dataframe thead th {\n",
       "        text-align: right;\n",
       "    }\n",
       "</style>\n",
       "<table border=\"1\" class=\"dataframe\">\n",
       "  <thead>\n",
       "    <tr style=\"text-align: right;\">\n",
       "      <th></th>\n",
       "      <th>rank</th>\n",
       "      <th>discipline</th>\n",
       "      <th>yrs.since.phd</th>\n",
       "      <th>yrs.service</th>\n",
       "      <th>sex</th>\n",
       "      <th>salary</th>\n",
       "    </tr>\n",
       "  </thead>\n",
       "  <tbody>\n",
       "    <tr>\n",
       "      <th>0</th>\n",
       "      <td>Prof</td>\n",
       "      <td>B</td>\n",
       "      <td>19</td>\n",
       "      <td>18</td>\n",
       "      <td>Male</td>\n",
       "      <td>139750</td>\n",
       "    </tr>\n",
       "    <tr>\n",
       "      <th>1</th>\n",
       "      <td>Prof</td>\n",
       "      <td>B</td>\n",
       "      <td>20</td>\n",
       "      <td>16</td>\n",
       "      <td>Male</td>\n",
       "      <td>173200</td>\n",
       "    </tr>\n",
       "    <tr>\n",
       "      <th>2</th>\n",
       "      <td>AsstProf</td>\n",
       "      <td>B</td>\n",
       "      <td>4</td>\n",
       "      <td>3</td>\n",
       "      <td>Male</td>\n",
       "      <td>79750</td>\n",
       "    </tr>\n",
       "    <tr>\n",
       "      <th>3</th>\n",
       "      <td>Prof</td>\n",
       "      <td>B</td>\n",
       "      <td>45</td>\n",
       "      <td>39</td>\n",
       "      <td>Male</td>\n",
       "      <td>115000</td>\n",
       "    </tr>\n",
       "    <tr>\n",
       "      <th>4</th>\n",
       "      <td>Prof</td>\n",
       "      <td>B</td>\n",
       "      <td>40</td>\n",
       "      <td>41</td>\n",
       "      <td>Male</td>\n",
       "      <td>141500</td>\n",
       "    </tr>\n",
       "  </tbody>\n",
       "</table>\n",
       "</div>"
      ],
      "text/plain": [
       "       rank discipline  yrs.since.phd  yrs.service   sex  salary\n",
       "0      Prof          B             19           18  Male  139750\n",
       "1      Prof          B             20           16  Male  173200\n",
       "2  AsstProf          B              4            3  Male   79750\n",
       "3      Prof          B             45           39  Male  115000\n",
       "4      Prof          B             40           41  Male  141500"
      ]
     },
     "execution_count": 4,
     "metadata": {},
     "output_type": "execute_result"
    }
   ],
   "source": [
    "df.head()"
   ]
  },
  {
   "cell_type": "code",
   "execution_count": 5,
   "id": "0160443c",
   "metadata": {},
   "outputs": [
    {
     "data": {
      "text/html": [
       "<div>\n",
       "<style scoped>\n",
       "    .dataframe tbody tr th:only-of-type {\n",
       "        vertical-align: middle;\n",
       "    }\n",
       "\n",
       "    .dataframe tbody tr th {\n",
       "        vertical-align: top;\n",
       "    }\n",
       "\n",
       "    .dataframe thead th {\n",
       "        text-align: right;\n",
       "    }\n",
       "</style>\n",
       "<table border=\"1\" class=\"dataframe\">\n",
       "  <thead>\n",
       "    <tr style=\"text-align: right;\">\n",
       "      <th></th>\n",
       "      <th>rank</th>\n",
       "      <th>discipline</th>\n",
       "      <th>yrs.since.phd</th>\n",
       "      <th>yrs.service</th>\n",
       "      <th>sex</th>\n",
       "      <th>salary</th>\n",
       "    </tr>\n",
       "  </thead>\n",
       "  <tbody>\n",
       "    <tr>\n",
       "      <th>392</th>\n",
       "      <td>Prof</td>\n",
       "      <td>A</td>\n",
       "      <td>33</td>\n",
       "      <td>30</td>\n",
       "      <td>Male</td>\n",
       "      <td>103106</td>\n",
       "    </tr>\n",
       "    <tr>\n",
       "      <th>393</th>\n",
       "      <td>Prof</td>\n",
       "      <td>A</td>\n",
       "      <td>31</td>\n",
       "      <td>19</td>\n",
       "      <td>Male</td>\n",
       "      <td>150564</td>\n",
       "    </tr>\n",
       "    <tr>\n",
       "      <th>394</th>\n",
       "      <td>Prof</td>\n",
       "      <td>A</td>\n",
       "      <td>42</td>\n",
       "      <td>25</td>\n",
       "      <td>Male</td>\n",
       "      <td>101738</td>\n",
       "    </tr>\n",
       "    <tr>\n",
       "      <th>395</th>\n",
       "      <td>Prof</td>\n",
       "      <td>A</td>\n",
       "      <td>25</td>\n",
       "      <td>15</td>\n",
       "      <td>Male</td>\n",
       "      <td>95329</td>\n",
       "    </tr>\n",
       "    <tr>\n",
       "      <th>396</th>\n",
       "      <td>AsstProf</td>\n",
       "      <td>A</td>\n",
       "      <td>8</td>\n",
       "      <td>4</td>\n",
       "      <td>Male</td>\n",
       "      <td>81035</td>\n",
       "    </tr>\n",
       "  </tbody>\n",
       "</table>\n",
       "</div>"
      ],
      "text/plain": [
       "         rank discipline  yrs.since.phd  yrs.service   sex  salary\n",
       "392      Prof          A             33           30  Male  103106\n",
       "393      Prof          A             31           19  Male  150564\n",
       "394      Prof          A             42           25  Male  101738\n",
       "395      Prof          A             25           15  Male   95329\n",
       "396  AsstProf          A              8            4  Male   81035"
      ]
     },
     "execution_count": 5,
     "metadata": {},
     "output_type": "execute_result"
    }
   ],
   "source": [
    "df.tail()"
   ]
  },
  {
   "cell_type": "code",
   "execution_count": 6,
   "id": "fb718192",
   "metadata": {},
   "outputs": [
    {
     "data": {
      "text/plain": [
       "rank             0\n",
       "discipline       0\n",
       "yrs.since.phd    0\n",
       "yrs.service      0\n",
       "sex              0\n",
       "salary           0\n",
       "dtype: int64"
      ]
     },
     "execution_count": 6,
     "metadata": {},
     "output_type": "execute_result"
    }
   ],
   "source": [
    "df.isnull().sum()"
   ]
  },
  {
   "cell_type": "code",
   "execution_count": 7,
   "id": "8ba974be",
   "metadata": {},
   "outputs": [
    {
     "data": {
      "text/plain": [
       "Index(['rank', 'discipline', 'yrs.since.phd', 'yrs.service', 'sex', 'salary'], dtype='object')"
      ]
     },
     "execution_count": 7,
     "metadata": {},
     "output_type": "execute_result"
    }
   ],
   "source": [
    "df.columns"
   ]
  },
  {
   "cell_type": "markdown",
   "id": "af9ca1c6",
   "metadata": {},
   "source": [
    "# Dataframe Description"
   ]
  },
  {
   "cell_type": "markdown",
   "id": "686b9cab",
   "metadata": {},
   "source": [
    "Data of an employee"
   ]
  },
  {
   "cell_type": "markdown",
   "id": "ea044781",
   "metadata": {},
   "source": [
    "Salary is our target variable"
   ]
  },
  {
   "cell_type": "code",
   "execution_count": 8,
   "id": "9609c5b1",
   "metadata": {},
   "outputs": [
    {
     "data": {
      "text/plain": [
       "rank             object\n",
       "discipline       object\n",
       "yrs.since.phd     int64\n",
       "yrs.service       int64\n",
       "sex              object\n",
       "salary            int64\n",
       "dtype: object"
      ]
     },
     "execution_count": 8,
     "metadata": {},
     "output_type": "execute_result"
    }
   ],
   "source": [
    "df.dtypes"
   ]
  },
  {
   "cell_type": "markdown",
   "id": "307db65b",
   "metadata": {},
   "source": [
    "Salary has a continous data and it is int64 type"
   ]
  },
  {
   "cell_type": "markdown",
   "id": "2cdd28c0",
   "metadata": {},
   "source": [
    "# Nominal Data"
   ]
  },
  {
   "cell_type": "code",
   "execution_count": 9,
   "id": "7eebab5c",
   "metadata": {},
   "outputs": [],
   "source": [
    "df_visualization_nominal = df[['sex']].copy()"
   ]
  },
  {
   "cell_type": "code",
   "execution_count": 10,
   "id": "16926fc6",
   "metadata": {},
   "outputs": [
    {
     "data": {
      "text/plain": [
       "Index(['sex'], dtype='object')"
      ]
     },
     "execution_count": 10,
     "metadata": {},
     "output_type": "execute_result"
    }
   ],
   "source": [
    "df_visualization_nominal.columns"
   ]
  },
  {
   "cell_type": "markdown",
   "id": "70af6020",
   "metadata": {},
   "source": [
    "# Visualization of the Data"
   ]
  },
  {
   "cell_type": "code",
   "execution_count": 11,
   "id": "5e9b42c7",
   "metadata": {},
   "outputs": [],
   "source": [
    "import seaborn as sns"
   ]
  },
  {
   "cell_type": "code",
   "execution_count": 12,
   "id": "95a66899",
   "metadata": {},
   "outputs": [
    {
     "name": "stdout",
     "output_type": "stream",
     "text": [
      "Male      358\n",
      "Female     39\n",
      "Name: sex, dtype: int64\n"
     ]
    },
    {
     "data": {
      "image/png": "[encoded data removed]",
      "text/plain": [
       "<Figure size 432x288 with 1 Axes>"
      ]
     },
     "metadata": {
      "needs_background": "light"
     },
     "output_type": "display_data"
    }
   ],
   "source": [
    "ax = sns.countplot(x=\"sex\", data=df_visualization_nominal)\n",
    "print(df_visualization_nominal[\"sex\"].value_counts())"
   ]
  },
  {
   "cell_type": "markdown",
   "id": "0040a110",
   "metadata": {},
   "source": [
    "From the above observation the total number of male is 358 and female is 39"
   ]
  },
  {
   "cell_type": "markdown",
   "id": "adeff64b",
   "metadata": {},
   "source": [
    "# Making Datafame of Ordinal Data"
   ]
  },
  {
   "cell_type": "code",
   "execution_count": 13,
   "id": "4d3f33bc",
   "metadata": {},
   "outputs": [],
   "source": [
    "df_visualization_ordinal = df[['rank', 'discipline']].copy()"
   ]
  },
  {
   "cell_type": "code",
   "execution_count": 14,
   "id": "d0d92ca0",
   "metadata": {},
   "outputs": [
    {
     "data": {
      "text/plain": [
       "<seaborn.axisgrid.FacetGrid at 0x1d840632550>"
      ]
     },
     "execution_count": 14,
     "metadata": {},
     "output_type": "execute_result"
    },
    {
     "data": {
      "image/png": "[encoded data removed]",
      "text/plain": [
       "<Figure size 360x360 with 1 Axes>"
      ]
     },
     "metadata": {
      "needs_background": "light"
     },
     "output_type": "display_data"
    }
   ],
   "source": [
    "sns.catplot(x=\"sex\",y=\"rank\", data=df)"
   ]
  },
  {
   "cell_type": "code",
   "execution_count": 15,
   "id": "ce3ae82f",
   "metadata": {},
   "outputs": [
    {
     "data": {
      "text/plain": [
       "<seaborn.axisgrid.FacetGrid at 0x1d8405ccd90>"
      ]
     },
     "execution_count": 15,
     "metadata": {},
     "output_type": "execute_result"
    },
    {
     "data": {
      "image/png": "[encoded data removed]",
      "text/plain": [
       "<Figure size 360x360 with 1 Axes>"
      ]
     },
     "metadata": {
      "needs_background": "light"
     },
     "output_type": "display_data"
    }
   ],
   "source": [
    "sns.catplot(x=\"sex\",y=\"discipline\", data=df)"
   ]
  },
  {
   "cell_type": "markdown",
   "id": "1df23723",
   "metadata": {},
   "source": [
    "# Checking the distribution of continous type columns"
   ]
  },
  {
   "cell_type": "code",
   "execution_count": 16,
   "id": "9a581d48",
   "metadata": {},
   "outputs": [],
   "source": [
    "df_visualization_continous=df[['yrs.since.phd','yrs.service','salary']].copy()"
   ]
  },
  {
   "cell_type": "code",
   "execution_count": 17,
   "id": "2c0eb121",
   "metadata": {},
   "outputs": [
    {
     "data": {
      "text/plain": [
       "<seaborn.axisgrid.FacetGrid at 0x1d840666580>"
      ]
     },
     "execution_count": 17,
     "metadata": {},
     "output_type": "execute_result"
    },
    {
     "data": {
      "image/png": "[encoded data removed]",
      "text/plain": [
       "<Figure size 360x360 with 1 Axes>"
      ]
     },
     "metadata": {
      "needs_background": "light"
     },
     "output_type": "display_data"
    }
   ],
   "source": [
    "import seaborn as sns\n",
    "sns.displot(df_visualization_continous['salary'], kde=True)"
   ]
  },
  {
   "cell_type": "code",
   "execution_count": 18,
   "id": "318794fc",
   "metadata": {},
   "outputs": [
    {
     "data": {
      "text/plain": [
       "<seaborn.axisgrid.FacetGrid at 0x1d84083baf0>"
      ]
     },
     "execution_count": 18,
     "metadata": {},
     "output_type": "execute_result"
    },
    {
     "data": {
      "image/png": "[encoded data removed]",
      "text/plain": [
       "<Figure size 360x360 with 1 Axes>"
      ]
     },
     "metadata": {
      "needs_background": "light"
     },
     "output_type": "display_data"
    }
   ],
   "source": [
    "sns.displot(df_visualization_continous['yrs.service'], kde=True)"
   ]
  },
  {
   "cell_type": "code",
   "execution_count": 19,
   "id": "b5f21002",
   "metadata": {},
   "outputs": [
    {
     "data": {
      "text/plain": [
       "<seaborn.axisgrid.FacetGrid at 0x1d840782700>"
      ]
     },
     "execution_count": 19,
     "metadata": {},
     "output_type": "execute_result"
    },
    {
     "data": {
      "image/png": "[encoded data removed]",
      "text/plain": [
       "<Figure size 360x360 with 1 Axes>"
      ]
     },
     "metadata": {
      "needs_background": "light"
     },
     "output_type": "display_data"
    }
   ],
   "source": [
    "sns.displot(df_visualization_continous['yrs.since.phd'], kde=True)"
   ]
  },
  {
   "cell_type": "markdown",
   "id": "d310501d",
   "metadata": {},
   "source": [
    "# Encoding Of Dataframe"
   ]
  },
  {
   "cell_type": "code",
   "execution_count": 20,
   "id": "36b75207",
   "metadata": {},
   "outputs": [],
   "source": [
    "from sklearn.preprocessing import OrdinalEncoder\n",
    "enc = OrdinalEncoder()"
   ]
  },
  {
   "cell_type": "code",
   "execution_count": 21,
   "id": "d96597bf",
   "metadata": {},
   "outputs": [],
   "source": [
    "for i in df.columns:\n",
    "    if df[i].dtypes == 'object':\n",
    "        df[i] = enc.fit_transform(df[i].values.reshape(-1,1))"
   ]
  },
  {
   "cell_type": "code",
   "execution_count": 22,
   "id": "3122cc27",
   "metadata": {},
   "outputs": [
    {
     "data": {
      "text/html": [
       "<div>\n",
       "<style scoped>\n",
       "    .dataframe tbody tr th:only-of-type {\n",
       "        vertical-align: middle;\n",
       "    }\n",
       "\n",
       "    .dataframe tbody tr th {\n",
       "        vertical-align: top;\n",
       "    }\n",
       "\n",
       "    .dataframe thead th {\n",
       "        text-align: right;\n",
       "    }\n",
       "</style>\n",
       "<table border=\"1\" class=\"dataframe\">\n",
       "  <thead>\n",
       "    <tr style=\"text-align: right;\">\n",
       "      <th></th>\n",
       "      <th>rank</th>\n",
       "      <th>discipline</th>\n",
       "      <th>yrs.since.phd</th>\n",
       "      <th>yrs.service</th>\n",
       "      <th>sex</th>\n",
       "      <th>salary</th>\n",
       "    </tr>\n",
       "  </thead>\n",
       "  <tbody>\n",
       "    <tr>\n",
       "      <th>0</th>\n",
       "      <td>2.0</td>\n",
       "      <td>1.0</td>\n",
       "      <td>19</td>\n",
       "      <td>18</td>\n",
       "      <td>1.0</td>\n",
       "      <td>139750</td>\n",
       "    </tr>\n",
       "    <tr>\n",
       "      <th>1</th>\n",
       "      <td>2.0</td>\n",
       "      <td>1.0</td>\n",
       "      <td>20</td>\n",
       "      <td>16</td>\n",
       "      <td>1.0</td>\n",
       "      <td>173200</td>\n",
       "    </tr>\n",
       "    <tr>\n",
       "      <th>2</th>\n",
       "      <td>1.0</td>\n",
       "      <td>1.0</td>\n",
       "      <td>4</td>\n",
       "      <td>3</td>\n",
       "      <td>1.0</td>\n",
       "      <td>79750</td>\n",
       "    </tr>\n",
       "    <tr>\n",
       "      <th>3</th>\n",
       "      <td>2.0</td>\n",
       "      <td>1.0</td>\n",
       "      <td>45</td>\n",
       "      <td>39</td>\n",
       "      <td>1.0</td>\n",
       "      <td>115000</td>\n",
       "    </tr>\n",
       "    <tr>\n",
       "      <th>4</th>\n",
       "      <td>2.0</td>\n",
       "      <td>1.0</td>\n",
       "      <td>40</td>\n",
       "      <td>41</td>\n",
       "      <td>1.0</td>\n",
       "      <td>141500</td>\n",
       "    </tr>\n",
       "    <tr>\n",
       "      <th>...</th>\n",
       "      <td>...</td>\n",
       "      <td>...</td>\n",
       "      <td>...</td>\n",
       "      <td>...</td>\n",
       "      <td>...</td>\n",
       "      <td>...</td>\n",
       "    </tr>\n",
       "    <tr>\n",
       "      <th>392</th>\n",
       "      <td>2.0</td>\n",
       "      <td>0.0</td>\n",
       "      <td>33</td>\n",
       "      <td>30</td>\n",
       "      <td>1.0</td>\n",
       "      <td>103106</td>\n",
       "    </tr>\n",
       "    <tr>\n",
       "      <th>393</th>\n",
       "      <td>2.0</td>\n",
       "      <td>0.0</td>\n",
       "      <td>31</td>\n",
       "      <td>19</td>\n",
       "      <td>1.0</td>\n",
       "      <td>150564</td>\n",
       "    </tr>\n",
       "    <tr>\n",
       "      <th>394</th>\n",
       "      <td>2.0</td>\n",
       "      <td>0.0</td>\n",
       "      <td>42</td>\n",
       "      <td>25</td>\n",
       "      <td>1.0</td>\n",
       "      <td>101738</td>\n",
       "    </tr>\n",
       "    <tr>\n",
       "      <th>395</th>\n",
       "      <td>2.0</td>\n",
       "      <td>0.0</td>\n",
       "      <td>25</td>\n",
       "      <td>15</td>\n",
       "      <td>1.0</td>\n",
       "      <td>95329</td>\n",
       "    </tr>\n",
       "    <tr>\n",
       "      <th>396</th>\n",
       "      <td>1.0</td>\n",
       "      <td>0.0</td>\n",
       "      <td>8</td>\n",
       "      <td>4</td>\n",
       "      <td>1.0</td>\n",
       "      <td>81035</td>\n",
       "    </tr>\n",
       "  </tbody>\n",
       "</table>\n",
       "<p>397 rows × 6 columns</p>\n",
       "</div>"
      ],
      "text/plain": [
       "     rank  discipline  yrs.since.phd  yrs.service  sex  salary\n",
       "0     2.0         1.0             19           18  1.0  139750\n",
       "1     2.0         1.0             20           16  1.0  173200\n",
       "2     1.0         1.0              4            3  1.0   79750\n",
       "3     2.0         1.0             45           39  1.0  115000\n",
       "4     2.0         1.0             40           41  1.0  141500\n",
       "..    ...         ...            ...          ...  ...     ...\n",
       "392   2.0         0.0             33           30  1.0  103106\n",
       "393   2.0         0.0             31           19  1.0  150564\n",
       "394   2.0         0.0             42           25  1.0  101738\n",
       "395   2.0         0.0             25           15  1.0   95329\n",
       "396   1.0         0.0              8            4  1.0   81035\n",
       "\n",
       "[397 rows x 6 columns]"
      ]
     },
     "execution_count": 22,
     "metadata": {},
     "output_type": "execute_result"
    }
   ],
   "source": [
    "df"
   ]
  },
  {
   "cell_type": "markdown",
   "id": "a953f3a5",
   "metadata": {},
   "source": [
    "Describe the dataser"
   ]
  },
  {
   "cell_type": "code",
   "execution_count": 23,
   "id": "dae92b45",
   "metadata": {},
   "outputs": [
    {
     "data": {
      "text/html": [
       "<div>\n",
       "<style scoped>\n",
       "    .dataframe tbody tr th:only-of-type {\n",
       "        vertical-align: middle;\n",
       "    }\n",
       "\n",
       "    .dataframe tbody tr th {\n",
       "        vertical-align: top;\n",
       "    }\n",
       "\n",
       "    .dataframe thead th {\n",
       "        text-align: right;\n",
       "    }\n",
       "</style>\n",
       "<table border=\"1\" class=\"dataframe\">\n",
       "  <thead>\n",
       "    <tr style=\"text-align: right;\">\n",
       "      <th></th>\n",
       "      <th>rank</th>\n",
       "      <th>discipline</th>\n",
       "      <th>yrs.since.phd</th>\n",
       "      <th>yrs.service</th>\n",
       "      <th>sex</th>\n",
       "      <th>salary</th>\n",
       "    </tr>\n",
       "  </thead>\n",
       "  <tbody>\n",
       "    <tr>\n",
       "      <th>count</th>\n",
       "      <td>397.000000</td>\n",
       "      <td>397.000000</td>\n",
       "      <td>397.000000</td>\n",
       "      <td>397.000000</td>\n",
       "      <td>397.000000</td>\n",
       "      <td>397.000000</td>\n",
       "    </tr>\n",
       "    <tr>\n",
       "      <th>mean</th>\n",
       "      <td>1.508816</td>\n",
       "      <td>0.544081</td>\n",
       "      <td>22.314861</td>\n",
       "      <td>17.614610</td>\n",
       "      <td>0.901763</td>\n",
       "      <td>113706.458438</td>\n",
       "    </tr>\n",
       "    <tr>\n",
       "      <th>std</th>\n",
       "      <td>0.757486</td>\n",
       "      <td>0.498682</td>\n",
       "      <td>12.887003</td>\n",
       "      <td>13.006024</td>\n",
       "      <td>0.298010</td>\n",
       "      <td>30289.038695</td>\n",
       "    </tr>\n",
       "    <tr>\n",
       "      <th>min</th>\n",
       "      <td>0.000000</td>\n",
       "      <td>0.000000</td>\n",
       "      <td>1.000000</td>\n",
       "      <td>0.000000</td>\n",
       "      <td>0.000000</td>\n",
       "      <td>57800.000000</td>\n",
       "    </tr>\n",
       "    <tr>\n",
       "      <th>25%</th>\n",
       "      <td>1.000000</td>\n",
       "      <td>0.000000</td>\n",
       "      <td>12.000000</td>\n",
       "      <td>7.000000</td>\n",
       "      <td>1.000000</td>\n",
       "      <td>91000.000000</td>\n",
       "    </tr>\n",
       "    <tr>\n",
       "      <th>50%</th>\n",
       "      <td>2.000000</td>\n",
       "      <td>1.000000</td>\n",
       "      <td>21.000000</td>\n",
       "      <td>16.000000</td>\n",
       "      <td>1.000000</td>\n",
       "      <td>107300.000000</td>\n",
       "    </tr>\n",
       "    <tr>\n",
       "      <th>75%</th>\n",
       "      <td>2.000000</td>\n",
       "      <td>1.000000</td>\n",
       "      <td>32.000000</td>\n",
       "      <td>27.000000</td>\n",
       "      <td>1.000000</td>\n",
       "      <td>134185.000000</td>\n",
       "    </tr>\n",
       "    <tr>\n",
       "      <th>max</th>\n",
       "      <td>2.000000</td>\n",
       "      <td>1.000000</td>\n",
       "      <td>56.000000</td>\n",
       "      <td>60.000000</td>\n",
       "      <td>1.000000</td>\n",
       "      <td>231545.000000</td>\n",
       "    </tr>\n",
       "  </tbody>\n",
       "</table>\n",
       "</div>"
      ],
      "text/plain": [
       "             rank  discipline  yrs.since.phd  yrs.service         sex  \\\n",
       "count  397.000000  397.000000     397.000000   397.000000  397.000000   \n",
       "mean     1.508816    0.544081      22.314861    17.614610    0.901763   \n",
       "std      0.757486    0.498682      12.887003    13.006024    0.298010   \n",
       "min      0.000000    0.000000       1.000000     0.000000    0.000000   \n",
       "25%      1.000000    0.000000      12.000000     7.000000    1.000000   \n",
       "50%      2.000000    1.000000      21.000000    16.000000    1.000000   \n",
       "75%      2.000000    1.000000      32.000000    27.000000    1.000000   \n",
       "max      2.000000    1.000000      56.000000    60.000000    1.000000   \n",
       "\n",
       "              salary  \n",
       "count     397.000000  \n",
       "mean   113706.458438  \n",
       "std     30289.038695  \n",
       "min     57800.000000  \n",
       "25%     91000.000000  \n",
       "50%    107300.000000  \n",
       "75%    134185.000000  \n",
       "max    231545.000000  "
      ]
     },
     "execution_count": 23,
     "metadata": {},
     "output_type": "execute_result"
    }
   ],
   "source": [
    "# only continous columns\n",
    "df.describe()"
   ]
  },
  {
   "cell_type": "code",
   "execution_count": 24,
   "id": "9c4aa741",
   "metadata": {},
   "outputs": [
    {
     "data": {
      "text/plain": [
       "<AxesSubplot:>"
      ]
     },
     "execution_count": 24,
     "metadata": {},
     "output_type": "execute_result"
    },
    {
     "data": {
      "image/png": "[encoded data removed]",
      "text/plain": [
       "<Figure size 1584x504 with 2 Axes>"
      ]
     },
     "metadata": {
      "needs_background": "light"
     },
     "output_type": "display_data"
    }
   ],
   "source": [
    "import matplotlib.pyplot as plt\n",
    "plt.figure(figsize=(22,7))\n",
    "sns.heatmap(df.describe(),annot=True,linewidths=0.1,linecolor=\"black\",fmt=\"0.2f\")"
   ]
  },
  {
   "cell_type": "markdown",
   "id": "beb5b8d1",
   "metadata": {},
   "source": [
    "Correlation of the columns with traget columns"
   ]
  },
  {
   "cell_type": "code",
   "execution_count": 25,
   "id": "21838cff",
   "metadata": {},
   "outputs": [
    {
     "data": {
      "text/plain": [
       "sex              0.138610\n",
       "discipline       0.156084\n",
       "yrs.service      0.334745\n",
       "yrs.since.phd    0.419231\n",
       "rank             0.522207\n",
       "salary           1.000000\n",
       "Name: salary, dtype: float64"
      ]
     },
     "execution_count": 25,
     "metadata": {},
     "output_type": "execute_result"
    }
   ],
   "source": [
    "df.corr()['salary'].sort_values()"
   ]
  },
  {
   "cell_type": "code",
   "execution_count": 26,
   "id": "1d6c1633",
   "metadata": {},
   "outputs": [
    {
     "data": {
      "text/plain": [
       "<AxesSubplot:>"
      ]
     },
     "execution_count": 26,
     "metadata": {},
     "output_type": "execute_result"
    },
    {
     "data": {
      "image/png": "[encoded data removed]",
      "text/plain": [
       "<Figure size 1584x504 with 2 Axes>"
      ]
     },
     "metadata": {
      "needs_background": "light"
     },
     "output_type": "display_data"
    }
   ],
   "source": [
    "plt.figure(figsize=(22,7))\n",
    "sns.heatmap(df.corr(),annot=True,linewidths=0.1,linecolor=\"black\",fmt=\"0.2f\")"
   ]
  },
  {
   "cell_type": "markdown",
   "id": "16ea9557",
   "metadata": {},
   "source": [
    "Checking the columns which are positively and negitavely corelated with the target column"
   ]
  },
  {
   "cell_type": "code",
   "execution_count": 27,
   "id": "2f653223",
   "metadata": {},
   "outputs": [
    {
     "data": {
      "image/png": "[encoded data removed]",
      "text/plain": [
       "<Figure size 1584x504 with 1 Axes>"
      ]
     },
     "metadata": {
      "needs_background": "light"
     },
     "output_type": "display_data"
    }
   ],
   "source": [
    "plt.figure(figsize=(22,7))\n",
    "df.corr()['salary'].sort_values(ascending=False).drop(['salary']).plot(kind='bar',color='c')\n",
    "plt.xlabel('Features',fontsize=14)\n",
    "plt.ylabel('Column With Target Names',fontsize=14)\n",
    "plt.title('Correlation',fontsize=18)\n",
    "plt.show()"
   ]
  },
  {
   "cell_type": "code",
   "execution_count": 28,
   "id": "dd228aa2",
   "metadata": {},
   "outputs": [
    {
     "data": {
      "text/plain": [
       "rank            -1.151164\n",
       "discipline      -0.177684\n",
       "yrs.since.phd    0.300880\n",
       "yrs.service      0.650569\n",
       "sex             -2.709958\n",
       "salary           0.714568\n",
       "dtype: float64"
      ]
     },
     "execution_count": 28,
     "metadata": {},
     "output_type": "execute_result"
    }
   ],
   "source": [
    "df.skew()"
   ]
  },
  {
   "cell_type": "markdown",
   "id": "4f651aed",
   "metadata": {},
   "source": [
    "Keeping -0.5 to +0.5 as the range for skewness, here are column which does dont lies in the range"
   ]
  },
  {
   "cell_type": "markdown",
   "id": "99c2c9ff",
   "metadata": {},
   "source": [
    "rank - categorical, \n",
    "yrs.service - continous, \n",
    "sex - categorical, \n",
    "salary - Target variable"
   ]
  },
  {
   "cell_type": "markdown",
   "id": "e443030c",
   "metadata": {},
   "source": [
    "yrs.service is continous and is not in skewness range so we have to remove its skewness"
   ]
  },
  {
   "cell_type": "code",
   "execution_count": 29,
   "id": "8b47c672",
   "metadata": {},
   "outputs": [],
   "source": [
    "df[\"yrs.service\"] = np.sqrt(df[\"yrs.service\"])"
   ]
  },
  {
   "cell_type": "code",
   "execution_count": 30,
   "id": "c792a21a",
   "metadata": {},
   "outputs": [
    {
     "data": {
      "text/plain": [
       "rank            -1.151164\n",
       "discipline      -0.177684\n",
       "yrs.since.phd    0.300880\n",
       "yrs.service     -0.160353\n",
       "sex             -2.709958\n",
       "salary           0.714568\n",
       "dtype: float64"
      ]
     },
     "execution_count": 30,
     "metadata": {},
     "output_type": "execute_result"
    }
   ],
   "source": [
    "df.skew()"
   ]
  },
  {
   "cell_type": "markdown",
   "id": "1ec36b48",
   "metadata": {},
   "source": [
    "yrs.service is continous is now under the skewness range (-0.5 to +0.5)"
   ]
  },
  {
   "cell_type": "markdown",
   "id": "02b4f57c",
   "metadata": {},
   "source": [
    "# Outliers Check"
   ]
  },
  {
   "cell_type": "code",
   "execution_count": 31,
   "id": "e56d3c6f",
   "metadata": {},
   "outputs": [
    {
     "data": {
      "text/plain": [
       "rank             float64\n",
       "discipline       float64\n",
       "yrs.since.phd      int64\n",
       "yrs.service      float64\n",
       "sex              float64\n",
       "salary             int64\n",
       "dtype: object"
      ]
     },
     "execution_count": 31,
     "metadata": {},
     "output_type": "execute_result"
    }
   ],
   "source": [
    "df.dtypes"
   ]
  },
  {
   "cell_type": "markdown",
   "id": "b5cef867",
   "metadata": {},
   "source": [
    "Checking the outliers on the int and float type of the columns"
   ]
  },
  {
   "cell_type": "code",
   "execution_count": 32,
   "id": "f41b6aeb",
   "metadata": {},
   "outputs": [
    {
     "data": {
      "text/plain": [
       "<AxesSubplot:>"
      ]
     },
     "execution_count": 32,
     "metadata": {},
     "output_type": "execute_result"
    },
    {
     "data": {
      "image/png": "[encoded data removed]",
      "text/plain": [
       "<Figure size 432x288 with 1 Axes>"
      ]
     },
     "metadata": {
      "needs_background": "light"
     },
     "output_type": "display_data"
    }
   ],
   "source": [
    "df[\"salary\"].plot.box()"
   ]
  },
  {
   "cell_type": "code",
   "execution_count": 33,
   "id": "cb226dbd",
   "metadata": {},
   "outputs": [
    {
     "data": {
      "text/plain": [
       "<AxesSubplot:>"
      ]
     },
     "execution_count": 33,
     "metadata": {},
     "output_type": "execute_result"
    },
    {
     "data": {
      "image/png": "[encoded data removed]",
      "text/plain": [
       "<Figure size 432x288 with 1 Axes>"
      ]
     },
     "metadata": {
      "needs_background": "light"
     },
     "output_type": "display_data"
    }
   ],
   "source": [
    "df[\"yrs.service\"].plot.box()"
   ]
  },
  {
   "cell_type": "code",
   "execution_count": 34,
   "id": "1e6c142d",
   "metadata": {},
   "outputs": [
    {
     "data": {
      "text/plain": [
       "<AxesSubplot:>"
      ]
     },
     "execution_count": 34,
     "metadata": {},
     "output_type": "execute_result"
    },
    {
     "data": {
      "image/png": "[encoded data removed]",
      "text/plain": [
       "<Figure size 432x288 with 1 Axes>"
      ]
     },
     "metadata": {
      "needs_background": "light"
     },
     "output_type": "display_data"
    }
   ],
   "source": [
    "df[\"yrs.since.phd\"].plot.box()"
   ]
  },
  {
   "cell_type": "markdown",
   "id": "550426c0",
   "metadata": {},
   "source": [
    "Since other columns are categorial type we cannot consider its datapoint as outliers"
   ]
  },
  {
   "cell_type": "code",
   "execution_count": 35,
   "id": "7c7eadf2",
   "metadata": {
    "scrolled": true
   },
   "outputs": [
    {
     "data": {
      "text/plain": [
       "(397, 6)"
      ]
     },
     "execution_count": 35,
     "metadata": {},
     "output_type": "execute_result"
    }
   ],
   "source": [
    "df.shape"
   ]
  },
  {
   "cell_type": "markdown",
   "id": "9b4df182",
   "metadata": {},
   "source": [
    "# Saperate the columns into features and target:"
   ]
  },
  {
   "cell_type": "code",
   "execution_count": 36,
   "id": "53b7ba17",
   "metadata": {},
   "outputs": [],
   "source": [
    "features=df.drop(\"salary\",axis=1)\n",
    "target=df[\"salary\"]"
   ]
  },
  {
   "cell_type": "markdown",
   "id": "1a2243b0",
   "metadata": {},
   "source": [
    "Scaling the data using Min- Max Scaler"
   ]
  },
  {
   "cell_type": "code",
   "execution_count": 37,
   "id": "da169032",
   "metadata": {},
   "outputs": [],
   "source": [
    "from sklearn.preprocessing import MinMaxScaler\n",
    "mms = MinMaxScaler()\n",
    "from sklearn.linear_model import LinearRegression\n",
    "lr = LinearRegression()\n",
    "from sklearn.metrics import r2_score\n",
    "from sklearn.model_selection import train_test_split"
   ]
  },
  {
   "cell_type": "code",
   "execution_count": 38,
   "id": "13b23805",
   "metadata": {},
   "outputs": [],
   "source": [
    "import warnings\n",
    "warnings.filterwarnings('ignore')"
   ]
  },
  {
   "cell_type": "code",
   "execution_count": 39,
   "id": "5e01d1e4",
   "metadata": {
    "scrolled": false
   },
   "outputs": [
    {
     "name": "stdout",
     "output_type": "stream",
     "text": [
      "At random state 0, training accuracy is :-  0.3492671339092651\n",
      "At random state 0, testing accuracy is :-  0.4086569066174661\n",
      "\n",
      "\n",
      "At random state 1, training accuracy is :-  0.356677320021092\n",
      "At random state 1, testing accuracy is :-  0.37773310058623877\n",
      "\n",
      "\n",
      "At random state 2, training accuracy is :-  0.36087460837100704\n",
      "At random state 2, testing accuracy is :-  0.37271231708247066\n",
      "\n",
      "\n",
      "At random state 3, training accuracy is :-  0.3830963419688238\n",
      "At random state 3, testing accuracy is :-  0.2866953079295631\n",
      "\n",
      "\n",
      "At random state 4, training accuracy is :-  0.37753632492101763\n",
      "At random state 4, testing accuracy is :-  0.2847547517906437\n",
      "\n",
      "\n",
      "At random state 5, training accuracy is :-  0.3760085137958573\n",
      "At random state 5, testing accuracy is :-  0.29385038262674534\n",
      "\n",
      "\n",
      "At random state 6, training accuracy is :-  0.3504284609080248\n",
      "At random state 6, testing accuracy is :-  0.41258142561308564\n",
      "\n",
      "\n",
      "At random state 7, training accuracy is :-  0.3399495427464555\n",
      "At random state 7, testing accuracy is :-  0.4658165347831964\n",
      "\n",
      "\n",
      "At random state 8, training accuracy is :-  0.35840430153068137\n",
      "At random state 8, testing accuracy is :-  0.3556610709911696\n",
      "\n",
      "\n",
      "At random state 9, training accuracy is :-  0.36030490357716727\n",
      "At random state 9, testing accuracy is :-  0.37109663174342455\n",
      "\n",
      "\n",
      "At random state 10, training accuracy is :-  0.3556867194756147\n",
      "At random state 10, testing accuracy is :-  0.37501803448513416\n",
      "\n",
      "\n",
      "At random state 11, training accuracy is :-  0.38603797914330074\n",
      "At random state 11, testing accuracy is :-  0.2267781005040035\n",
      "\n",
      "\n",
      "At random state 12, training accuracy is :-  0.36317152016111265\n",
      "At random state 12, testing accuracy is :-  0.3513857262779273\n",
      "\n",
      "\n",
      "At random state 13, training accuracy is :-  0.3603708579542668\n",
      "At random state 13, testing accuracy is :-  0.3350380926754577\n",
      "\n",
      "\n",
      "At random state 14, training accuracy is :-  0.40744107011589104\n",
      "At random state 14, testing accuracy is :-  0.1315729449429759\n",
      "\n",
      "\n",
      "At random state 15, training accuracy is :-  0.37598089808657453\n",
      "At random state 15, testing accuracy is :-  0.28877575616851503\n",
      "\n",
      "\n",
      "At random state 16, training accuracy is :-  0.38562848334333\n",
      "At random state 16, testing accuracy is :-  0.2548639439583609\n",
      "\n",
      "\n",
      "At random state 17, training accuracy is :-  0.3713413351759356\n",
      "At random state 17, testing accuracy is :-  0.28697586980226686\n",
      "\n",
      "\n",
      "At random state 18, training accuracy is :-  0.3477405543008374\n",
      "At random state 18, testing accuracy is :-  0.3935870741133204\n",
      "\n",
      "\n",
      "At random state 19, training accuracy is :-  0.36204747331149645\n",
      "At random state 19, testing accuracy is :-  0.3585046480284003\n",
      "\n",
      "\n",
      "At random state 20, training accuracy is :-  0.34813953078211524\n",
      "At random state 20, testing accuracy is :-  0.40499430411937953\n",
      "\n",
      "\n",
      "At random state 21, training accuracy is :-  0.3860727127464083\n",
      "At random state 21, testing accuracy is :-  0.2628595918295874\n",
      "\n",
      "\n",
      "At random state 22, training accuracy is :-  0.36492684601777714\n",
      "At random state 22, testing accuracy is :-  0.3354546647636386\n",
      "\n",
      "\n",
      "At random state 23, training accuracy is :-  0.37746542833238306\n",
      "At random state 23, testing accuracy is :-  0.3025188017084173\n",
      "\n",
      "\n",
      "At random state 24, training accuracy is :-  0.3803541619579879\n",
      "At random state 24, testing accuracy is :-  0.2694232396615901\n",
      "\n",
      "\n",
      "At random state 25, training accuracy is :-  0.36859723774096687\n",
      "At random state 25, testing accuracy is :-  0.32938793322130344\n",
      "\n",
      "\n",
      "At random state 26, training accuracy is :-  0.35434611881042044\n",
      "At random state 26, testing accuracy is :-  0.39863742635137067\n",
      "\n",
      "\n",
      "At random state 27, training accuracy is :-  0.3777048243094506\n",
      "At random state 27, testing accuracy is :-  0.3009014226699922\n",
      "\n",
      "\n",
      "At random state 28, training accuracy is :-  0.39717981257268586\n",
      "At random state 28, testing accuracy is :-  0.2106933610623707\n",
      "\n",
      "\n",
      "At random state 29, training accuracy is :-  0.3891643371430782\n",
      "At random state 29, testing accuracy is :-  0.21134686285060678\n",
      "\n",
      "\n",
      "At random state 30, training accuracy is :-  0.364761303742972\n",
      "At random state 30, testing accuracy is :-  0.34239761263033874\n",
      "\n",
      "\n",
      "At random state 31, training accuracy is :-  0.3817279425400868\n",
      "At random state 31, testing accuracy is :-  0.2610471090356631\n",
      "\n",
      "\n",
      "At random state 32, training accuracy is :-  0.3596593364620181\n",
      "At random state 32, testing accuracy is :-  0.35217911879179\n",
      "\n",
      "\n",
      "At random state 33, training accuracy is :-  0.3560478497081825\n",
      "At random state 33, testing accuracy is :-  0.39313131373778565\n",
      "\n",
      "\n",
      "At random state 34, training accuracy is :-  0.3555561484827837\n",
      "At random state 34, testing accuracy is :-  0.38811965954061445\n",
      "\n",
      "\n",
      "At random state 35, training accuracy is :-  0.36600160081200184\n",
      "At random state 35, testing accuracy is :-  0.34425030433101955\n",
      "\n",
      "\n",
      "At random state 36, training accuracy is :-  0.3722142535358547\n",
      "At random state 36, testing accuracy is :-  0.2721800720209141\n",
      "\n",
      "\n",
      "At random state 37, training accuracy is :-  0.34447571565070356\n",
      "At random state 37, testing accuracy is :-  0.3831376993990202\n",
      "\n",
      "\n",
      "At random state 38, training accuracy is :-  0.3805061760678067\n",
      "At random state 38, testing accuracy is :-  0.25604231637326513\n",
      "\n",
      "\n",
      "At random state 39, training accuracy is :-  0.35561779273037764\n",
      "At random state 39, testing accuracy is :-  0.3810879299212868\n",
      "\n",
      "\n",
      "At random state 40, training accuracy is :-  0.3529603520343543\n",
      "At random state 40, testing accuracy is :-  0.3869501898691037\n",
      "\n",
      "\n",
      "At random state 41, training accuracy is :-  0.34811036705890164\n",
      "At random state 41, testing accuracy is :-  0.40313678086460425\n",
      "\n",
      "\n",
      "At random state 42, training accuracy is :-  0.4169362935921215\n",
      "At random state 42, testing accuracy is :-  0.07022344562918792\n",
      "\n",
      "\n",
      "At random state 43, training accuracy is :-  0.3956884247157316\n",
      "At random state 43, testing accuracy is :-  0.2420481159328256\n",
      "\n",
      "\n",
      "At random state 44, training accuracy is :-  0.3585464230260679\n",
      "At random state 44, testing accuracy is :-  0.37002567445568146\n",
      "\n",
      "\n",
      "At random state 45, training accuracy is :-  0.41101076219371613\n",
      "At random state 45, testing accuracy is :-  0.19449513871144908\n",
      "\n",
      "\n",
      "At random state 46, training accuracy is :-  0.344242562506173\n",
      "At random state 46, testing accuracy is :-  0.35024650254348766\n",
      "\n",
      "\n",
      "At random state 47, training accuracy is :-  0.36372896245628905\n",
      "At random state 47, testing accuracy is :-  0.3374355259914622\n",
      "\n",
      "\n",
      "At random state 48, training accuracy is :-  0.3506723364020171\n",
      "At random state 48, testing accuracy is :-  0.40175335328155126\n",
      "\n",
      "\n",
      "At random state 49, training accuracy is :-  0.3775095741204195\n",
      "At random state 49, testing accuracy is :-  0.2763724596712894\n",
      "\n",
      "\n",
      "At random state 50, training accuracy is :-  0.37274435565141006\n",
      "At random state 50, testing accuracy is :-  0.3172327570761351\n",
      "\n",
      "\n",
      "At random state 51, training accuracy is :-  0.36157903297104865\n",
      "At random state 51, testing accuracy is :-  0.3561400798533845\n",
      "\n",
      "\n",
      "At random state 52, training accuracy is :-  0.3624453566600705\n",
      "At random state 52, testing accuracy is :-  0.3493443168786641\n",
      "\n",
      "\n",
      "At random state 53, training accuracy is :-  0.3508387477627727\n",
      "At random state 53, testing accuracy is :-  0.39458369553231565\n",
      "\n",
      "\n",
      "At random state 54, training accuracy is :-  0.3730928715535622\n",
      "At random state 54, testing accuracy is :-  0.306582351772398\n",
      "\n",
      "\n",
      "At random state 55, training accuracy is :-  0.38376948807660327\n",
      "At random state 55, testing accuracy is :-  0.2660482036338504\n",
      "\n",
      "\n",
      "At random state 56, training accuracy is :-  0.3823539849808233\n",
      "At random state 56, testing accuracy is :-  0.2376330377500654\n",
      "\n",
      "\n",
      "At random state 57, training accuracy is :-  0.35563750497568736\n",
      "At random state 57, testing accuracy is :-  0.38757247504758385\n",
      "\n",
      "\n",
      "At random state 58, training accuracy is :-  0.3934587570041109\n",
      "At random state 58, testing accuracy is :-  0.22765428788433661\n",
      "\n",
      "\n",
      "At random state 59, training accuracy is :-  0.3555768868142798\n",
      "At random state 59, testing accuracy is :-  0.36673779883688473\n",
      "\n",
      "\n",
      "At random state 60, training accuracy is :-  0.35230288858350545\n",
      "At random state 60, testing accuracy is :-  0.4253003670270791\n",
      "\n",
      "\n",
      "At random state 61, training accuracy is :-  0.3495414592798253\n",
      "At random state 61, testing accuracy is :-  0.4126719047237264\n",
      "\n",
      "\n",
      "At random state 62, training accuracy is :-  0.36690519041005687\n",
      "At random state 62, testing accuracy is :-  0.2836249866792271\n",
      "\n",
      "\n",
      "At random state 63, training accuracy is :-  0.35135502183752\n",
      "At random state 63, testing accuracy is :-  0.39414814518221386\n",
      "\n",
      "\n",
      "At random state 64, training accuracy is :-  0.32321715728311384\n"
     ]
    },
    {
     "name": "stdout",
     "output_type": "stream",
     "text": [
      "At random state 64, testing accuracy is :-  0.5047389999016785\n",
      "\n",
      "\n",
      "At random state 65, training accuracy is :-  0.39212759825630894\n",
      "At random state 65, testing accuracy is :-  0.24358148483599418\n",
      "\n",
      "\n",
      "At random state 66, training accuracy is :-  0.36464768744476206\n",
      "At random state 66, testing accuracy is :-  0.3452564126717481\n",
      "\n",
      "\n",
      "At random state 67, training accuracy is :-  0.3407251750786908\n",
      "At random state 67, testing accuracy is :-  0.430987673803504\n",
      "\n",
      "\n",
      "At random state 68, training accuracy is :-  0.4126787072468381\n",
      "At random state 68, testing accuracy is :-  0.14739039016160782\n",
      "\n",
      "\n",
      "At random state 69, training accuracy is :-  0.3474120750488\n",
      "At random state 69, testing accuracy is :-  0.39608473741621875\n",
      "\n",
      "\n",
      "At random state 70, training accuracy is :-  0.3941968767611087\n",
      "At random state 70, testing accuracy is :-  0.11653462809935267\n",
      "\n",
      "\n",
      "At random state 71, training accuracy is :-  0.36815238045221177\n",
      "At random state 71, testing accuracy is :-  0.325094600663266\n",
      "\n",
      "\n",
      "At random state 72, training accuracy is :-  0.36872616769394395\n",
      "At random state 72, testing accuracy is :-  0.30394885491623336\n",
      "\n",
      "\n",
      "At random state 73, training accuracy is :-  0.356604656506913\n",
      "At random state 73, testing accuracy is :-  0.3722845247105616\n",
      "\n",
      "\n",
      "At random state 74, training accuracy is :-  0.35271854525360935\n",
      "At random state 74, testing accuracy is :-  0.4072020748235087\n",
      "\n",
      "\n",
      "At random state 75, training accuracy is :-  0.35408003902432295\n",
      "At random state 75, testing accuracy is :-  0.38603348451958286\n",
      "\n",
      "\n",
      "At random state 76, training accuracy is :-  0.3865027799941144\n",
      "At random state 76, testing accuracy is :-  0.193238430585713\n",
      "\n",
      "\n",
      "At random state 77, training accuracy is :-  0.3473537655390305\n",
      "At random state 77, testing accuracy is :-  0.39705891636306745\n",
      "\n",
      "\n",
      "At random state 78, training accuracy is :-  0.3679884522836836\n",
      "At random state 78, testing accuracy is :-  0.33273886714337964\n",
      "\n",
      "\n",
      "At random state 79, training accuracy is :-  0.33900605784636695\n",
      "At random state 79, testing accuracy is :-  0.4542894306480122\n",
      "\n",
      "\n",
      "At random state 80, training accuracy is :-  0.3424415901659741\n",
      "At random state 80, testing accuracy is :-  0.47459265552095153\n",
      "\n",
      "\n",
      "At random state 81, training accuracy is :-  0.34091857675955184\n",
      "At random state 81, testing accuracy is :-  0.4213163985087707\n",
      "\n",
      "\n",
      "At random state 82, training accuracy is :-  0.3598743527797952\n",
      "At random state 82, testing accuracy is :-  0.3698243645443654\n",
      "\n",
      "\n",
      "At random state 83, training accuracy is :-  0.3556686918581622\n",
      "At random state 83, testing accuracy is :-  0.3797842380547941\n",
      "\n",
      "\n",
      "At random state 84, training accuracy is :-  0.3537144136303422\n",
      "At random state 84, testing accuracy is :-  0.37218945310168794\n",
      "\n",
      "\n",
      "At random state 85, training accuracy is :-  0.36537769603457515\n",
      "At random state 85, testing accuracy is :-  0.34092039301420407\n",
      "\n",
      "\n",
      "At random state 86, training accuracy is :-  0.3540781046706478\n",
      "At random state 86, testing accuracy is :-  0.3897704094651897\n",
      "\n",
      "\n",
      "At random state 87, training accuracy is :-  0.37758015436564296\n",
      "At random state 87, testing accuracy is :-  0.20843152072440907\n",
      "\n",
      "\n",
      "At random state 88, training accuracy is :-  0.3469335867973592\n",
      "At random state 88, testing accuracy is :-  0.42585035558762585\n",
      "\n",
      "\n",
      "At random state 89, training accuracy is :-  0.3783645947472428\n",
      "At random state 89, testing accuracy is :-  0.28110094947943187\n",
      "\n",
      "\n",
      "At random state 90, training accuracy is :-  0.3396133023197285\n",
      "At random state 90, testing accuracy is :-  0.42887439017928886\n",
      "\n",
      "\n",
      "At random state 91, training accuracy is :-  0.3588034241704774\n",
      "At random state 91, testing accuracy is :-  0.3573591084429458\n",
      "\n",
      "\n",
      "At random state 92, training accuracy is :-  0.36161832424274754\n",
      "At random state 92, testing accuracy is :-  0.3583298531632283\n",
      "\n",
      "\n",
      "At random state 93, training accuracy is :-  0.3980025070838036\n",
      "At random state 93, testing accuracy is :-  0.20374210701541617\n",
      "\n",
      "\n",
      "At random state 94, training accuracy is :-  0.3770454724141181\n",
      "At random state 94, testing accuracy is :-  0.2870833019683179\n",
      "\n",
      "\n",
      "At random state 95, training accuracy is :-  0.3789150600814528\n",
      "At random state 95, testing accuracy is :-  0.27920951891223944\n",
      "\n",
      "\n",
      "At random state 96, training accuracy is :-  0.3426780508001086\n",
      "At random state 96, testing accuracy is :-  0.42088520813568153\n",
      "\n",
      "\n",
      "At random state 97, training accuracy is :-  0.3503324531058818\n",
      "At random state 97, testing accuracy is :-  0.42193872785975084\n",
      "\n",
      "\n",
      "At random state 98, training accuracy is :-  0.33874880561246135\n",
      "At random state 98, testing accuracy is :-  0.4252193204703715\n",
      "\n",
      "\n",
      "At random state 99, training accuracy is :-  0.3545938446515935\n",
      "At random state 99, testing accuracy is :-  0.3979279379574897\n",
      "\n",
      "\n"
     ]
    }
   ],
   "source": [
    "for i in range(0,100):\n",
    "    features_train,features_test,target_train,target_test=train_test_split(features,target,test_size=0.2,random_state=i)\n",
    "    lr.fit(features_train,target_train)\n",
    "    pred_train=lr.predict(features_train)\n",
    "    pred_test=lr.predict(features_test)\n",
    "    print(f\"At random state {i}, training accuracy is :-  {r2_score(target_train,pred_train)}\")\n",
    "    print(f\"At random state {i}, testing accuracy is :-  {r2_score(target_test,pred_test)}\")\n",
    "    print(\"\\n\")"
   ]
  },
  {
   "cell_type": "code",
   "execution_count": 40,
   "id": "84b41436",
   "metadata": {},
   "outputs": [
    {
     "name": "stdout",
     "output_type": "stream",
     "text": [
      "Best Accuracy is  0.5093697667934673 on Random_state  150\n"
     ]
    }
   ],
   "source": [
    "maxAccu=0\n",
    "maxRS=0\n",
    "for i in range(1,200):\n",
    "    x_train,x_test,y_train,y_test=train_test_split(features,target,test_size=.20,random_state=i)\n",
    "    LR=LinearRegression()\n",
    "    LR.fit(x_train,y_train)\n",
    "    pred=LR.predict(x_test)\n",
    "    acc=r2_score(y_test, pred)\n",
    "\n",
    "    \n",
    "    if acc>maxAccu:\n",
    "        maxAccu=acc\n",
    "        maxRS=i\n",
    "print(\"Best Accuracy is \",maxAccu,\"on Random_state \",maxRS)"
   ]
  },
  {
   "cell_type": "code",
   "execution_count": 41,
   "id": "1ece2f8c",
   "metadata": {},
   "outputs": [],
   "source": [
    "features_train,features_test,target_train,target_test=train_test_split(features,target,test_size=0.2,random_state=maxRS)"
   ]
  },
  {
   "cell_type": "code",
   "execution_count": 42,
   "id": "1d55d731",
   "metadata": {},
   "outputs": [
    {
     "data": {
      "text/plain": [
       "LinearRegression()"
      ]
     },
     "execution_count": 42,
     "metadata": {},
     "output_type": "execute_result"
    }
   ],
   "source": [
    "# train the model\n",
    "lr.fit(features_train,target_train)"
   ]
  },
  {
   "cell_type": "code",
   "execution_count": 43,
   "id": "ddef53db",
   "metadata": {},
   "outputs": [],
   "source": [
    "prod_test=lr.predict(features_test)"
   ]
  },
  {
   "cell_type": "code",
   "execution_count": 44,
   "id": "4b8b36b7",
   "metadata": {},
   "outputs": [
    {
     "name": "stdout",
     "output_type": "stream",
     "text": [
      "-0.3663473116222413\n"
     ]
    }
   ],
   "source": [
    "print(r2_score(target_test,pred_test))"
   ]
  },
  {
   "cell_type": "markdown",
   "id": "bef9f406",
   "metadata": {},
   "source": [
    "# Cross Validation of model"
   ]
  },
  {
   "cell_type": "code",
   "execution_count": 45,
   "id": "586408f1",
   "metadata": {},
   "outputs": [
    {
     "name": "stdout",
     "output_type": "stream",
     "text": [
      "At cross fole 2 the cv score is 0.29238525033244034 and accuracy for training is -0.4390893623138643  and accuracy for testing is -0.3663473116222413\n",
      "\n",
      "\n",
      "At cross fole 3 the cv score is 0.3005764825951393 and accuracy for training is -0.4390893623138643  and accuracy for testing is -0.3663473116222413\n",
      "\n",
      "\n",
      "At cross fole 4 the cv score is 0.3120719375427048 and accuracy for training is -0.4390893623138643  and accuracy for testing is -0.3663473116222413\n",
      "\n",
      "\n",
      "At cross fole 5 the cv score is 0.29817444360863465 and accuracy for training is -0.4390893623138643  and accuracy for testing is -0.3663473116222413\n",
      "\n",
      "\n",
      "At cross fole 6 the cv score is 0.32160482154449377 and accuracy for training is -0.4390893623138643  and accuracy for testing is -0.3663473116222413\n",
      "\n",
      "\n",
      "At cross fole 7 the cv score is 0.3132584641958785 and accuracy for training is -0.4390893623138643  and accuracy for testing is -0.3663473116222413\n",
      "\n",
      "\n",
      "At cross fole 8 the cv score is 0.3253064949843779 and accuracy for training is -0.4390893623138643  and accuracy for testing is -0.3663473116222413\n",
      "\n",
      "\n",
      "At cross fole 9 the cv score is 0.2971505257710874 and accuracy for training is -0.4390893623138643  and accuracy for testing is -0.3663473116222413\n",
      "\n",
      "\n"
     ]
    }
   ],
   "source": [
    "Train_accuracy=r2_score(target_train,pred_train)\n",
    "Test_accuracy=r2_score(target_test,pred_test)\n",
    "\n",
    "from sklearn.model_selection import cross_val_score\n",
    "for j in range(2,10):\n",
    "    cv_score=cross_val_score(lr,features,target,cv=j)\n",
    "    cv_mean=cv_score.mean()\n",
    "    print(f\"At cross fole {j} the cv score is {cv_mean} and accuracy for training is {Train_accuracy}  and accuracy for testing is {Test_accuracy}\")\n",
    "    print(\"\\n\")"
   ]
  },
  {
   "cell_type": "markdown",
   "id": "cccfa8f7",
   "metadata": {},
   "source": [
    "Since the number of folds does not have much impact on the accuracy of cv_score so cv=5 is selected"
   ]
  },
  {
   "cell_type": "markdown",
   "id": "e054cefa",
   "metadata": {},
   "source": [
    "Here we handle the problem of overfitting and underfitting by checking the training and testing score"
   ]
  },
  {
   "cell_type": "code",
   "execution_count": 46,
   "id": "07225c9f",
   "metadata": {},
   "outputs": [
    {
     "data": {
      "image/png": "[encoded data removed]",
      "text/plain": [
       "<Figure size 576x432 with 1 Axes>"
      ]
     },
     "metadata": {
      "needs_background": "light"
     },
     "output_type": "display_data"
    }
   ],
   "source": [
    "import matplotlib.pyplot as plt\n",
    "plt.figure(figsize=(8,6))\n",
    "plt.scatter(x=target_test,y=pred_test,color='r')\n",
    "plt.plot(target_test,target_test,color='b')\n",
    "plt.xlabel('Actual Salary',fontsize=14)\n",
    "plt.ylabel('Predict Salary',fontsize=14)\n",
    "plt.title('Linear Regression',fontsize=18)\n",
    "plt.savefig('lr.png')\n",
    "plt.show()"
   ]
  },
  {
   "cell_type": "markdown",
   "id": "9734fca7",
   "metadata": {},
   "source": [
    "Best fit line is covering most of the datapoints which shows good fit of our model"
   ]
  },
  {
   "cell_type": "markdown",
   "id": "4a2e2334",
   "metadata": {},
   "source": [
    "Ensembls Technique"
   ]
  },
  {
   "cell_type": "code",
   "execution_count": 47,
   "id": "4e16df97",
   "metadata": {},
   "outputs": [
    {
     "name": "stdout",
     "output_type": "stream",
     "text": [
      "{'criterion': 'mae', 'max_features': 'sqrt'}\n"
     ]
    }
   ],
   "source": [
    "from sklearn.model_selection import GridSearchCV\n",
    "from sklearn.ensemble import RandomForestRegressor\n",
    "perameters = {'criterion':['mse','mae'],\n",
    "             'max_features':[\"auto\",\"sqrt\",\"log2\"]}\n",
    "rf = RandomForestRegressor()\n",
    "clf = GridSearchCV(rf,perameters)\n",
    "clf.fit(features_train,target_train)\n",
    "print(clf.best_params_)"
   ]
  },
  {
   "cell_type": "code",
   "execution_count": 48,
   "id": "847d5b74",
   "metadata": {},
   "outputs": [
    {
     "name": "stdout",
     "output_type": "stream",
     "text": [
      "R2 Score: 54.567557440028224\n",
      "Cross Val Score: 54.567557440028224\n"
     ]
    }
   ],
   "source": [
    "rf = RandomForestRegressor(criterion=\"mae\",max_features=\"auto\")\n",
    "rf.fit(features_train,target_train)\n",
    "rf.score(features_train,target_train)\n",
    "pred_decision = rf.predict(features_test)\n",
    "\n",
    "rfs = r2_score(target_test,pred_decision)\n",
    "print(\"R2 Score:\",rfs*100)\n",
    "\n",
    "rfscore = cross_val_score(rf,features,target,cv=5)\n",
    "rfc = rfscore.mean()\n",
    "print(\"Cross Val Score:\",rfs*100)"
   ]
  },
  {
   "cell_type": "code",
   "execution_count": 49,
   "id": "eb794104",
   "metadata": {},
   "outputs": [],
   "source": [
    "import pickle\n",
    "filename = 'salary.pkl'\n",
    "pickle.dump(rf,open(filename,'wb'))"
   ]
  },
  {
   "cell_type": "markdown",
   "id": "80eaf03b",
   "metadata": {},
   "source": [
    "# Conclusion"
   ]
  },
  {
   "cell_type": "code",
   "execution_count": 50,
   "id": "4a748fa5",
   "metadata": {},
   "outputs": [
    {
     "name": "stdout",
     "output_type": "stream",
     "text": [
      "54.567557440028224\n"
     ]
    }
   ],
   "source": [
    "loaded_model = pickle.load(open('salary.pkl','rb'))\n",
    "result = loaded_model.score(features_test,target_test)\n",
    "print(result*100)"
   ]
  },
  {
   "cell_type": "code",
   "execution_count": 51,
   "id": "e2d3c592",
   "metadata": {},
   "outputs": [
    {
     "data": {
      "text/html": [
       "<div>\n",
       "<style scoped>\n",
       "    .dataframe tbody tr th:only-of-type {\n",
       "        vertical-align: middle;\n",
       "    }\n",
       "\n",
       "    .dataframe tbody tr th {\n",
       "        vertical-align: top;\n",
       "    }\n",
       "\n",
       "    .dataframe thead th {\n",
       "        text-align: right;\n",
       "    }\n",
       "</style>\n",
       "<table border=\"1\" class=\"dataframe\">\n",
       "  <thead>\n",
       "    <tr style=\"text-align: right;\">\n",
       "      <th></th>\n",
       "      <th>0</th>\n",
       "      <th>1</th>\n",
       "      <th>2</th>\n",
       "      <th>3</th>\n",
       "      <th>4</th>\n",
       "      <th>5</th>\n",
       "      <th>6</th>\n",
       "      <th>7</th>\n",
       "      <th>8</th>\n",
       "      <th>9</th>\n",
       "      <th>...</th>\n",
       "      <th>70</th>\n",
       "      <th>71</th>\n",
       "      <th>72</th>\n",
       "      <th>73</th>\n",
       "      <th>74</th>\n",
       "      <th>75</th>\n",
       "      <th>76</th>\n",
       "      <th>77</th>\n",
       "      <th>78</th>\n",
       "      <th>79</th>\n",
       "    </tr>\n",
       "  </thead>\n",
       "  <tbody>\n",
       "    <tr>\n",
       "      <th>Predicted</th>\n",
       "      <td>99768.04</td>\n",
       "      <td>84087.01</td>\n",
       "      <td>96998.52</td>\n",
       "      <td>128302.95</td>\n",
       "      <td>132619.89</td>\n",
       "      <td>149088.605</td>\n",
       "      <td>144698.92</td>\n",
       "      <td>131412.34</td>\n",
       "      <td>122763.21</td>\n",
       "      <td>119414.19</td>\n",
       "      <td>...</td>\n",
       "      <td>82521.63</td>\n",
       "      <td>152461.45</td>\n",
       "      <td>109149.84</td>\n",
       "      <td>88971.755</td>\n",
       "      <td>114304.49</td>\n",
       "      <td>152100.885</td>\n",
       "      <td>96110.8</td>\n",
       "      <td>81663.22</td>\n",
       "      <td>79391.4</td>\n",
       "      <td>95021.88</td>\n",
       "    </tr>\n",
       "    <tr>\n",
       "      <th>Original</th>\n",
       "      <td>99768.04</td>\n",
       "      <td>84087.01</td>\n",
       "      <td>96998.52</td>\n",
       "      <td>128302.95</td>\n",
       "      <td>132619.89</td>\n",
       "      <td>149088.605</td>\n",
       "      <td>144698.92</td>\n",
       "      <td>131412.34</td>\n",
       "      <td>122763.21</td>\n",
       "      <td>119414.19</td>\n",
       "      <td>...</td>\n",
       "      <td>82521.63</td>\n",
       "      <td>152461.45</td>\n",
       "      <td>109149.84</td>\n",
       "      <td>88971.755</td>\n",
       "      <td>114304.49</td>\n",
       "      <td>152100.885</td>\n",
       "      <td>96110.8</td>\n",
       "      <td>81663.22</td>\n",
       "      <td>79391.4</td>\n",
       "      <td>95021.88</td>\n",
       "    </tr>\n",
       "  </tbody>\n",
       "</table>\n",
       "<p>2 rows × 80 columns</p>\n",
       "</div>"
      ],
      "text/plain": [
       "                 0         1         2          3          4           5   \\\n",
       "Predicted  99768.04  84087.01  96998.52  128302.95  132619.89  149088.605   \n",
       "Original   99768.04  84087.01  96998.52  128302.95  132619.89  149088.605   \n",
       "\n",
       "                  6          7          8          9   ...        70  \\\n",
       "Predicted  144698.92  131412.34  122763.21  119414.19  ...  82521.63   \n",
       "Original   144698.92  131412.34  122763.21  119414.19  ...  82521.63   \n",
       "\n",
       "                  71         72         73         74          75       76  \\\n",
       "Predicted  152461.45  109149.84  88971.755  114304.49  152100.885  96110.8   \n",
       "Original   152461.45  109149.84  88971.755  114304.49  152100.885  96110.8   \n",
       "\n",
       "                 77       78        79  \n",
       "Predicted  81663.22  79391.4  95021.88  \n",
       "Original   81663.22  79391.4  95021.88  \n",
       "\n",
       "[2 rows x 80 columns]"
      ]
     },
     "execution_count": 51,
     "metadata": {},
     "output_type": "execute_result"
    }
   ],
   "source": [
    "conclusion = pd.DataFrame([loaded_model.predict(features_test)[:],pred_decision[:]],index=[\"Predicted\",\"Original\"])\n",
    "conclusion"
   ]
  },
  {
   "cell_type": "code",
   "execution_count": null,
   "id": "7fff4a61",
   "metadata": {},
   "outputs": [],
   "source": []
  },
  {
   "cell_type": "code",
   "execution_count": null,
   "id": "1dc43d83",
   "metadata": {},
   "outputs": [],
   "source": []
  }
 ],
 "metadata": {
  "kernelspec": {
   "display_name": "Python 3 (ipykernel)",
   "language": "python",
   "name": "python3"
  },
  "language_info": {
   "codemirror_mode": {
    "name": "ipython",
    "version": 3
   },
   "file_extension": ".py",
   "mimetype": "text/x-python",
   "name": "python",
   "nbconvert_exporter": "python",
   "pygments_lexer": "ipython3",
   "version": "3.9.7"
  }
 },
 "nbformat": 4,
 "nbformat_minor": 5
}
